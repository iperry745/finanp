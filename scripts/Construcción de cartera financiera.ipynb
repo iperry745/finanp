{
 "cells": [
  {
   "cell_type": "markdown",
   "id": "7d3e28b7",
   "metadata": {},
   "source": [
    "#CONSTRUCCIÓN DE CARTERA FINANCIERA"
   ]
  },
  {
   "cell_type": "markdown",
   "id": "d414b84e",
   "metadata": {},
   "source": [
    "###Librerias"
   ]
  },
  {
   "cell_type": "code",
   "execution_count": 143,
   "id": "aab59499-1411-4943-82f1-e661dca5b515",
   "metadata": {},
   "outputs": [],
   "source": [
    "import numpy as np\n",
    "import matplotlib.pyplot as plt\n",
    "import pandas as pd"
   ]
  },
  {
   "cell_type": "markdown",
   "id": "d0b08b18",
   "metadata": {},
   "source": [
    "###Lectura de base de datos"
   ]
  },
  {
   "cell_type": "code",
   "execution_count": 144,
   "id": "08cd4191-db71-457d-bd03-7b550795b5a6",
   "metadata": {},
   "outputs": [],
   "source": [
    "data_route = '../data/'"
   ]
  },
  {
   "cell_type": "code",
   "execution_count": 145,
   "id": "bc9c0b5d",
   "metadata": {},
   "outputs": [],
   "source": [
    "expenses_filename = 'expenses.csv'\n",
    "incomes_filename = 'incomes.csv'"
   ]
  },
  {
   "cell_type": "code",
   "execution_count": 146,
   "id": "7e896298",
   "metadata": {},
   "outputs": [],
   "source": [
    "expenses = pd.read_csv(data_route+expenses_filename)\n",
    "incomes = pd.read_csv(data_route+incomes_filename)"
   ]
  },
  {
   "cell_type": "code",
   "execution_count": 147,
   "id": "d0f3bb25-67ce-4ca1-8465-7d0b7802e32f",
   "metadata": {},
   "outputs": [
    {
     "data": {
      "text/html": [
       "<div>\n",
       "<style scoped>\n",
       "    .dataframe tbody tr th:only-of-type {\n",
       "        vertical-align: middle;\n",
       "    }\n",
       "\n",
       "    .dataframe tbody tr th {\n",
       "        vertical-align: top;\n",
       "    }\n",
       "\n",
       "    .dataframe thead th {\n",
       "        text-align: right;\n",
       "    }\n",
       "</style>\n",
       "<table border=\"1\" class=\"dataframe\">\n",
       "  <thead>\n",
       "    <tr style=\"text-align: right;\">\n",
       "      <th></th>\n",
       "      <th>DATE</th>\n",
       "      <th>AMOUNT</th>\n",
       "      <th>CATEGORY</th>\n",
       "      <th>THIRD-PARTY</th>\n",
       "      <th>DESCRIPTION</th>\n",
       "    </tr>\n",
       "  </thead>\n",
       "  <tbody>\n",
       "    <tr>\n",
       "      <th>0</th>\n",
       "      <td>08/04/2024</td>\n",
       "      <td>19000</td>\n",
       "      <td>FIJO</td>\n",
       "      <td>LEVAL</td>\n",
       "      <td>COBRO LEVAL VIATICOS</td>\n",
       "    </tr>\n",
       "    <tr>\n",
       "      <th>1</th>\n",
       "      <td>12/04/2024</td>\n",
       "      <td>20000</td>\n",
       "      <td>FIJO</td>\n",
       "      <td>PAPA</td>\n",
       "      <td>COBRO SEMANA</td>\n",
       "    </tr>\n",
       "  </tbody>\n",
       "</table>\n",
       "</div>"
      ],
      "text/plain": [
       "         DATE  AMOUNT CATEGORY THIRD-PARTY            DESCRIPTION\n",
       "0  08/04/2024   19000     FIJO       LEVAL   COBRO LEVAL VIATICOS\n",
       "1  12/04/2024   20000     FIJO        PAPA           COBRO SEMANA"
      ]
     },
     "execution_count": 147,
     "metadata": {},
     "output_type": "execute_result"
    }
   ],
   "source": [
    "incomes"
   ]
  },
  {
   "cell_type": "code",
   "execution_count": 148,
   "id": "7b9ee466-2705-462a-8143-37c68301eaba",
   "metadata": {},
   "outputs": [
    {
     "data": {
      "text/plain": [
       "0    19000\n",
       "1    20000\n",
       "Name: AMOUNT, dtype: int64"
      ]
     },
     "execution_count": 148,
     "metadata": {},
     "output_type": "execute_result"
    }
   ],
   "source": [
    "incomes['AMOUNT']"
   ]
  },
  {
   "cell_type": "code",
   "execution_count": 149,
   "id": "78081c66-b5d8-4b67-89bd-912b2b452194",
   "metadata": {},
   "outputs": [
    {
     "data": {
      "text/plain": [
       "39000"
      ]
     },
     "execution_count": 149,
     "metadata": {},
     "output_type": "execute_result"
    }
   ],
   "source": [
    "        incomes['AMOUNT'].sum()"
   ]
  },
  {
   "cell_type": "code",
   "execution_count": 150,
   "id": "a539629e-7bb8-44ad-8b02-d95ecef45c09",
   "metadata": {},
   "outputs": [
    {
     "data": {
      "text/plain": [
       "DATE                      08/04/2024\n",
       "AMOUNT                         19000\n",
       "CATEGORY                        FIJO\n",
       "THIRD-PARTY                    LEVAL\n",
       "DESCRIPTION     COBRO LEVAL VIATICOS\n",
       "Name: 0, dtype: object"
      ]
     },
     "execution_count": 150,
     "metadata": {},
     "output_type": "execute_result"
    }
   ],
   "source": [
    "incomes.loc[0]"
   ]
  },
  {
   "cell_type": "code",
   "execution_count": 151,
   "id": "69077b92-c294-444e-9ba1-fdb03b130105",
   "metadata": {},
   "outputs": [
    {
     "data": {
      "text/plain": [
       "' COBRO LEVAL VIATICOS'"
      ]
     },
     "execution_count": 151,
     "metadata": {},
     "output_type": "execute_result"
    }
   ],
   "source": [
    "incomes.loc[0]['DESCRIPTION']"
   ]
  },
  {
   "cell_type": "code",
   "execution_count": 152,
   "id": "7b841abe-b485-4d80-b2e7-d211876266d2",
   "metadata": {},
   "outputs": [
    {
     "name": "stdout",
     "output_type": "stream",
     "text": [
      "2\n"
     ]
    }
   ],
   "source": [
    "n = len(incomes)\n",
    "print(n)"
   ]
  },
  {
   "cell_type": "code",
   "execution_count": 153,
   "id": "c4ad8e45-92f0-4561-a597-39dbfbb33930",
   "metadata": {},
   "outputs": [],
   "source": [
    "incomes.loc[n] = ['12/04/2024',20000,'FIJO','PAPA','COBRO SEMANA']"
   ]
  },
  {
   "cell_type": "code",
   "execution_count": 154,
   "id": "513b8ec7-74e0-4f31-83ca-e760c10325e2",
   "metadata": {},
   "outputs": [
    {
     "data": {
      "text/html": [
       "<div>\n",
       "<style scoped>\n",
       "    .dataframe tbody tr th:only-of-type {\n",
       "        vertical-align: middle;\n",
       "    }\n",
       "\n",
       "    .dataframe tbody tr th {\n",
       "        vertical-align: top;\n",
       "    }\n",
       "\n",
       "    .dataframe thead th {\n",
       "        text-align: right;\n",
       "    }\n",
       "</style>\n",
       "<table border=\"1\" class=\"dataframe\">\n",
       "  <thead>\n",
       "    <tr style=\"text-align: right;\">\n",
       "      <th></th>\n",
       "      <th>DATE</th>\n",
       "      <th>AMOUNT</th>\n",
       "      <th>CATEGORY</th>\n",
       "      <th>THIRD-PARTY</th>\n",
       "      <th>DESCRIPTION</th>\n",
       "    </tr>\n",
       "  </thead>\n",
       "  <tbody>\n",
       "    <tr>\n",
       "      <th>0</th>\n",
       "      <td>08/04/2024</td>\n",
       "      <td>19000</td>\n",
       "      <td>FIJO</td>\n",
       "      <td>LEVAL</td>\n",
       "      <td>COBRO LEVAL VIATICOS</td>\n",
       "    </tr>\n",
       "    <tr>\n",
       "      <th>1</th>\n",
       "      <td>12/04/2024</td>\n",
       "      <td>20000</td>\n",
       "      <td>FIJO</td>\n",
       "      <td>PAPA</td>\n",
       "      <td>COBRO SEMANA</td>\n",
       "    </tr>\n",
       "    <tr>\n",
       "      <th>2</th>\n",
       "      <td>12/04/2024</td>\n",
       "      <td>20000</td>\n",
       "      <td>FIJO</td>\n",
       "      <td>PAPA</td>\n",
       "      <td>COBRO SEMANA</td>\n",
       "    </tr>\n",
       "  </tbody>\n",
       "</table>\n",
       "</div>"
      ],
      "text/plain": [
       "         DATE  AMOUNT CATEGORY THIRD-PARTY            DESCRIPTION\n",
       "0  08/04/2024   19000     FIJO       LEVAL   COBRO LEVAL VIATICOS\n",
       "1  12/04/2024   20000     FIJO        PAPA           COBRO SEMANA\n",
       "2  12/04/2024   20000     FIJO        PAPA           COBRO SEMANA"
      ]
     },
     "execution_count": 154,
     "metadata": {},
     "output_type": "execute_result"
    }
   ],
   "source": [
    "incomes"
   ]
  },
  {
   "cell_type": "markdown",
   "id": "ef53f967-3e0f-469b-b58f-bb8899b8d298",
   "metadata": {},
   "source": [
    "#Construcción de la Clase"
   ]
  },
  {
   "cell_type": "code",
   "execution_count": 175,
   "id": "f24ff400-935c-4a71-b3b0-de5e198a96a4",
   "metadata": {},
   "outputs": [],
   "source": [
    "class FWallet:\n",
    "\n",
    "    def __init__(self,inputs):\n",
    "        self.inputs = inputs\n",
    "        self.incomes = pd.read_csv(self.inputs['data_route']+self.inputs['incomes_filename'])\n",
    "        self.expenses = pd.read_csv(self.inputs['data_route']+self.inputs['expenses_filename'])\n",
    "        \n",
    "    ### ACTIONS TO PERFORM ###\n",
    "\n",
    "    #Add income to database\n",
    "    def add_income(self):\n",
    "        date = input('date: ')\n",
    "        amount = input('amount: ')\n",
    "        category = input('category: ')\n",
    "        third_party = input('third party: ')\n",
    "        description = input('description: ')\n",
    "\n",
    "        new_income = [date,amount,category,third_party,description]\n",
    "\n",
    "        n = len(self.incomes)\n",
    "        self.incomes.loc[n] = new_income\n",
    "\n",
    "        self.incomes.to_csv(self.inputs['data_route']+self.inputs['incomes_filename'],index=False)\n",
    "\n",
    "    #Add expense to database\n",
    "    def add_expense(self):\n",
    "        date = input('date: ')\n",
    "        amount = input('amount: ')\n",
    "        category = input('category: ')\n",
    "        third_party = input('third party: ')\n",
    "        description = input('description: ')\n",
    "\n",
    "        new_expense = [date,amount,category,third_party,description]\n",
    "\n",
    "        n = len(self.expenses)\n",
    "        self.expenses.loc[n] = new_expense\n",
    "\n",
    "        self.expenses.to_csv(self.inputs['data_route']+self.inputs['expenses_filename'],index=False)\n",
    "\n",
    "    #Calculate the total income\n",
    "    def total_income(self):\n",
    "        total = self.incomes['AMOUNT'].sum()\n",
    "        return total\n",
    "\n",
    "    #Calculate total expense\n",
    "    def total_expense(self):\n",
    "        total = self.expenses['AMOUNT'].sum()\n",
    "        return total\n",
    "    \n",
    "    #Calculate balance\n",
    "    def balance(self):\n",
    "        balance = self.total_income() - self.total_expense()\n",
    "        return balance\n",
    "    \n",
    "    #Create financial report using the functions above\n",
    "    def financial_report(self):\n",
    "        print('\\n'+'Financial Report'+'\\n')\n",
    "        print(f'Total Income: ${self.total_income()}')\n",
    "        print(f'Total Expense: ${self.total_expense()}')\n",
    "        print(f'Balance: ${self.balance()}')\n",
    "        if self.balance() > 0:\n",
    "            print ('Dont forget to save some of your left-off money! great job!')\n",
    "        else:\n",
    "            pring('Be responsible with your finance, and find a low rate loan!')\n",
    "    "
   ]
  },
  {
   "cell_type": "code",
   "execution_count": 176,
   "id": "710db7bb-2046-4857-8218-a5dd21d789a1",
   "metadata": {},
   "outputs": [],
   "source": [
    "inputs = {\n",
    "    'data_route' : '../data/',\n",
    "    'expenses_filename' : 'expenses.csv',\n",
    "    'incomes_filename' : 'incomes.csv'\n",
    "}"
   ]
  },
  {
   "cell_type": "code",
   "execution_count": 177,
   "id": "decf8cf3-9961-4681-be54-646e05f462a7",
   "metadata": {},
   "outputs": [],
   "source": [
    "cartera = FWallet(inputs)"
   ]
  },
  {
   "cell_type": "code",
   "execution_count": 178,
   "id": "0dd813f1-92ac-42dd-9a54-af290e23f253",
   "metadata": {},
   "outputs": [
    {
     "name": "stdout",
     "output_type": "stream",
     "text": [
      "\n",
      "Financial Report\n",
      "\n",
      "Total Income: $39000\n",
      "Total Expense: $2000\n",
      "Balance: $37000\n",
      "Dont forget to save some of your left-off money! great job!\n"
     ]
    }
   ],
   "source": [
    "cartera.financial_report()"
   ]
  },
  {
   "cell_type": "code",
   "execution_count": null,
   "id": "2ba07332-0d15-4f3d-bb66-c39b7da0ef16",
   "metadata": {},
   "outputs": [],
   "source": [
    "cartera.expenses"
   ]
  },
  {
   "cell_type": "code",
   "execution_count": null,
   "id": "35559bda-1f09-44c1-9553-9f799e209890",
   "metadata": {},
   "outputs": [],
   "source": []
  }
 ],
 "metadata": {
  "kernelspec": {
   "display_name": "Python 3 (ipykernel)",
   "language": "python",
   "name": "python3"
  },
  "language_info": {
   "codemirror_mode": {
    "name": "ipython",
    "version": 3
   },
   "file_extension": ".py",
   "mimetype": "text/x-python",
   "name": "python",
   "nbconvert_exporter": "python",
   "pygments_lexer": "ipython3",
   "version": "3.12.3"
  }
 },
 "nbformat": 4,
 "nbformat_minor": 5
}
